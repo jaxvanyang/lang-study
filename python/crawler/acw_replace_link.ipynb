{
 "cells": [
  {
   "cell_type": "code",
   "execution_count": 1,
   "source": [
    "from bs4 import BeautifulSoup as BS\n",
    "import requests\n",
    "from time import sleep\n",
    "import time\n",
    "from getpass import getpass"
   ],
   "outputs": [],
   "metadata": {}
  },
  {
   "cell_type": "code",
   "execution_count": 2,
   "source": [
    "domain = \"https://www.acwing.com\"\n",
    "\n",
    "# get this from input\n",
    "activity_url = input('请输入要替换原题链接的 AcWing 活动页面（输入为空则默认为算法竞赛进阶指南》活动）：')\n",
    "if activity_url == '':\n",
    "    activity_url = 'https://www.acwing.com/activity/content/punch_the_clock/6/'"
   ],
   "outputs": [],
   "metadata": {}
  },
  {
   "cell_type": "code",
   "execution_count": 3,
   "source": [
    "login_url = 'https://www.acwing.com/user/account/signin/'\n",
    "\n",
    "# access the main page to get csrftoken\n",
    "session = requests.Session()\n",
    "session.get(domain)\n",
    "csrftoken = session.cookies['csrftoken']\n",
    "\n",
    "# get login username & password\n",
    "print('请输入 AcWing 的登录信息，输入密码不显示是正常的')\n",
    "username = input('用户名或邮箱：')\n",
    "password = getpass('密码（输完后按回车）：')\n",
    "\n",
    "# set login form\n",
    "login_headers = {\n",
    "    'Connection': 'keep-alive',\n",
    "    'sec-ch-ua': '\"Microsoft Edge\";v=\"93\", \" Not;A Brand\";v=\"99\", \"Chromium\";v=\"93\"',\n",
    "    'DNT': '1',\n",
    "    'sec-ch-ua-mobile': '?0',\n",
    "    'User-Agent': 'Mozilla/5.0 (X11; Linux x86_64) AppleWebKit/537.36 (KHTML, like Gecko) Chrome/93.0.4577.25 Safari/537.36 Edg/93.0.961.18',\n",
    "    'Content-Type': 'application/x-www-form-urlencoded; charset=UTF-8',\n",
    "    'Accept': 'application/json, text/javascript, */*; q=0.01',\n",
    "    'X-Requested-With': 'XMLHttpRequest',\n",
    "    'X-CSRFToken': 'r2si6L74DMG5QfYhs2lqYsW7TlIVIPCJsj8mTXXUAcNpVUkILw5Hwferk9lpL5Ly',\n",
    "    'sec-ch-ua-platform': '\"Linux\"',\n",
    "    'Origin': 'https://www.acwing.com',\n",
    "    'Sec-Fetch-Site': 'same-origin',\n",
    "    'Sec-Fetch-Mode': 'cors',\n",
    "    'Sec-Fetch-Dest': 'empty',\n",
    "    'Referer': domain,\n",
    "    'Accept-Language': 'en-US,en;q=0.9,zh-CN;q=0.8,zh;q=0.7',\n",
    "}\n",
    "login_data = {\n",
    "  'csrfmiddlewaretoken': csrftoken,\n",
    "  'username': username,\n",
    "  'password': password,\n",
    "  'remember_me': 'on'\n",
    "}\n",
    "\n",
    "# login in ACWing\n",
    "session.post(login_url, headers=login_headers, data=login_data)"
   ],
   "outputs": [
    {
     "output_type": "stream",
     "name": "stdout",
     "text": [
      "请输入 AcWing 的登录信息，输入密码不显示是正常的\n"
     ]
    },
    {
     "output_type": "execute_result",
     "data": {
      "text/plain": [
       "<Response [200]>"
      ]
     },
     "metadata": {},
     "execution_count": 3
    }
   ],
   "metadata": {}
  },
  {
   "cell_type": "code",
   "execution_count": 4,
   "source": [
    "# normal page form data\n",
    "headers = {\n",
    "    'Connection': 'keep-alive',\n",
    "    'sec-ch-ua': '\"Chromium\";v=\"92\", \" Not A;Brand\";v=\"99\", \"Microsoft Edge\";v=\"92\"',\n",
    "    'sec-ch-ua-mobile': '?0',\n",
    "    'Upgrade-Insecure-Requests': '1',\n",
    "    'DNT': '1',\n",
    "    'User-Agent': 'Mozilla/5.0 (X11; Linux x86_64) AppleWebKit/537.36 (KHTML, like Gecko) Chrome/92.0.4515.107 Safari/537.36 Edg/92.0.902.62',\n",
    "    'Accept': 'text/html,application/xhtml+xml,application/xml;q=0.9,image/webp,image/apng,*/*;q=0.8,application/signed-exchange;v=b3;q=0.9',\n",
    "    'Sec-Fetch-Site': 'same-origin',\n",
    "    'Sec-Fetch-Mode': 'navigate',\n",
    "    'Sec-Fetch-User': '?1',\n",
    "    'Sec-Fetch-Dest': 'document',\n",
    "    'Referer': activity_url,\n",
    "    'Accept-Language': 'en-US,en;q=0.9,zh-CN;q=0.8,zh;q=0.7',\n",
    "}\n",
    "\n",
    "response = session.get(activity_url, headers=headers)\n",
    "activity_page = session.get(activity_url, headers=headers).text"
   ],
   "outputs": [],
   "metadata": {}
  },
  {
   "cell_type": "code",
   "execution_count": 5,
   "source": [
    "activity_soup = BS(activity_page, 'lxml')\n",
    "\n",
    "problems = activity_soup.find_all('a', class_='clock-problem-title')\n",
    "cnt = len(problems)\n",
    "print(f'total problem count: {cnt}')\n",
    "print(f'it may finish in {cnt // 120} mins')"
   ],
   "outputs": [
    {
     "output_type": "stream",
     "name": "stdout",
     "text": [
      "total problem count: 329\n",
      "it may finish in 2 mins\n"
     ]
    }
   ],
   "metadata": {}
  },
  {
   "cell_type": "code",
   "execution_count": 6,
   "source": [
    "start_time = time.time()\n",
    "\n",
    "for i in range(cnt):\n",
    "    problem = problems[i]\n",
    "    print(f'# {i + 1}/{cnt}: {problem.span.text}')\n",
    "\n",
    "    href = problem.attrs['href']\n",
    "    page = session.get(f'{domain}{href}', headers=headers)\n",
    "\n",
    "    problem_soup = BS(page.text, 'lxml')\n",
    "    target = problem_soup.find('a', class_='label label-info')\n",
    "    \n",
    "    original_link = target.attrs['href']\n",
    "    print(f'will replace {problem.attrs[\"href\"]} with {original_link}')\n",
    "\n",
    "    activity_page = activity_page.replace(problem.attrs['href'], original_link)\n",
    "\n",
    "    # optional\n",
    "    # sleep(1)\n",
    "\n",
    "end_time = time.time()\n",
    "print(f'scrape time: {end_time - start_time} s')\n",
    "\n",
    "with open('source.html', 'w') as f:\n",
    "    f.write(activity_page)\n",
    "    print('successed, check source.html in current folder')"
   ],
   "outputs": [
    {
     "output_type": "stream",
     "name": "stdout",
     "text": [
      "# 1/329: AcWing 340. 通信线路\n",
      "will replace /activity/content/problem/content/656/ with https://www.acwing.com/problem/content/342/\n",
      "# 2/329: AcWing 341. 最优贸易\n",
      "will replace /activity/content/problem/content/657/ with https://www.acwing.com/problem/content/343/\n",
      "# 3/329: AcWing 342. 道路与航线\n",
      "will replace /activity/content/problem/content/658/ with https://www.acwing.com/problem/content/344/\n",
      "# 4/329: AcWing 343. 排序\n",
      "will replace /activity/content/problem/content/659/ with https://www.acwing.com/problem/content/345/\n",
      "# 5/329: AcWing 344. 观光之旅\n",
      "will replace /activity/content/problem/content/660/ with https://www.acwing.com/problem/content/346/\n"
     ]
    },
    {
     "output_type": "error",
     "ename": "KeyboardInterrupt",
     "evalue": "",
     "traceback": [
      "\u001b[0;31m---------------------------------------------------------------------------\u001b[0m",
      "\u001b[0;31mKeyboardInterrupt\u001b[0m                         Traceback (most recent call last)",
      "\u001b[0;32m/tmp/ipykernel_30028/3811545702.py\u001b[0m in \u001b[0;36m<module>\u001b[0;34m\u001b[0m\n\u001b[1;32m     17\u001b[0m \u001b[0;34m\u001b[0m\u001b[0m\n\u001b[1;32m     18\u001b[0m     \u001b[0;31m# optional\u001b[0m\u001b[0;34m\u001b[0m\u001b[0;34m\u001b[0m\u001b[0;34m\u001b[0m\u001b[0m\n\u001b[0;32m---> 19\u001b[0;31m     \u001b[0msleep\u001b[0m\u001b[0;34m(\u001b[0m\u001b[0;36m1\u001b[0m\u001b[0;34m)\u001b[0m\u001b[0;34m\u001b[0m\u001b[0;34m\u001b[0m\u001b[0m\n\u001b[0m\u001b[1;32m     20\u001b[0m \u001b[0;34m\u001b[0m\u001b[0m\n\u001b[1;32m     21\u001b[0m \u001b[0mend_time\u001b[0m \u001b[0;34m=\u001b[0m \u001b[0mtime\u001b[0m\u001b[0;34m.\u001b[0m\u001b[0mtime\u001b[0m\u001b[0;34m(\u001b[0m\u001b[0;34m)\u001b[0m\u001b[0;34m\u001b[0m\u001b[0;34m\u001b[0m\u001b[0m\n",
      "\u001b[0;31mKeyboardInterrupt\u001b[0m: "
     ]
    }
   ],
   "metadata": {}
  }
 ],
 "metadata": {
  "orig_nbformat": 4,
  "language_info": {
   "name": "python",
   "version": "3.8.10",
   "mimetype": "text/x-python",
   "codemirror_mode": {
    "name": "ipython",
    "version": 3
   },
   "pygments_lexer": "ipython3",
   "nbconvert_exporter": "python",
   "file_extension": ".py"
  },
  "kernelspec": {
   "name": "python3",
   "display_name": "Python 3.8.10 64-bit"
  },
  "interpreter": {
   "hash": "916dbcbb3f70747c44a77c7bcd40155683ae19c65e1c03b4aa3499c5328201f1"
  }
 },
 "nbformat": 4,
 "nbformat_minor": 2
}