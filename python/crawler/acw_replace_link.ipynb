{
 "cells": [
  {
   "cell_type": "markdown",
   "source": [
    "use previous cookies with cURL:\n",
    "```shell\n",
    "curl 'https://www.acwing.com/activity/content/punch_the_clock/6/' \\\n",
    "  -H 'Connection: keep-alive' \\\n",
    "  -H 'sec-ch-ua: \"Chromium\";v=\"92\", \" Not A;Brand\";v=\"99\", \"Microsoft Edge\";v=\"92\"' \\\n",
    "  -H 'sec-ch-ua-mobile: ?0' \\\n",
    "  -H 'Upgrade-Insecure-Requests: 1' \\\n",
    "  -H 'DNT: 1' \\\n",
    "  -H 'User-Agent: Mozilla/5.0 (X11; Linux x86_64) AppleWebKit/537.36 (KHTML, like Gecko) Chrome/92.0.4515.107 Safari/537.36 Edg/92.0.902.62' \\\n",
    "  -H 'Accept: text/html,application/xhtml+xml,application/xml;q=0.9,image/webp,image/apng,*/*;q=0.8,application/signed-exchange;v=b3;q=0.9' \\\n",
    "  -H 'Sec-Fetch-Site: same-origin' \\\n",
    "  -H 'Sec-Fetch-Mode: navigate' \\\n",
    "  -H 'Sec-Fetch-User: ?1' \\\n",
    "  -H 'Sec-Fetch-Dest: document' \\\n",
    "  -H 'Referer: https://www.acwing.com/activity/content/punch_the_clock/6/' \\\n",
    "  -H 'Accept-Language: en-US,en;q=0.9,zh-CN;q=0.8,zh;q=0.7' \\\n",
    "  -H 'Cookie: file_2875_readed=\"\"; file_4838_readed=\"\"; csrftoken=zjiB5aIFBN22wCSLxwq90Q6MWdU71ceMxIokfKnTsYcWNPEnkPg6jZwHLkC4Uyqy; sessionid=lld01kxx7qz0cph57hc9jp0h9m2axj0g; file_538183_readed=\"\"; file_777_readed=\"\"' \\\n",
    "  --compressed\n",
    "```"
   ],
   "metadata": {}
  },
  {
   "cell_type": "code",
   "execution_count": 28,
   "source": [
    "from bs4 import BeautifulSoup as BS\n",
    "import requests\n",
    "from time import sleep"
   ],
   "outputs": [],
   "metadata": {}
  },
  {
   "cell_type": "code",
   "execution_count": 29,
   "source": [
    "url = 'https://www.acwing.com/activity/content/punch_the_clock/6/'\n",
    "headers = {\n",
    "    'Connection': 'keep-alive',\n",
    "    'sec-ch-ua': '\"Chromium\";v=\"92\", \" Not A;Brand\";v=\"99\", \"Microsoft Edge\";v=\"92\"',\n",
    "    'sec-ch-ua-mobile': '?0',\n",
    "    'Upgrade-Insecure-Requests': '1',\n",
    "    'DNT': '1',\n",
    "    'User-Agent': 'Mozilla/5.0 (X11; Linux x86_64) AppleWebKit/537.36 (KHTML, like Gecko) Chrome/92.0.4515.107 Safari/537.36 Edg/92.0.902.62',\n",
    "    'Accept': 'text/html,application/xhtml+xml,application/xml;q=0.9,image/webp,image/apng,*/*;q=0.8,application/signed-exchange;v=b3;q=0.9',\n",
    "    'Sec-Fetch-Site': 'same-origin',\n",
    "    'Sec-Fetch-Mode': 'navigate',\n",
    "    'Sec-Fetch-User': '?1',\n",
    "    'Sec-Fetch-Dest': 'document',\n",
    "    'Referer': 'https://www.acwing.com/activity/content/punch_the_clock/6/',\n",
    "    'Accept-Language': 'en-US,en;q=0.9,zh-CN;q=0.8,zh;q=0.7',\n",
    "    'Cookie': 'file_2875_readed=\"\"; file_4838_readed=\"\"; csrftoken=EfzcZAwbFzJHjk2ryKSlARMHBW94cT0Q4zmCAj8VZdCfp2hvJMRuyvGMgZ5sPmrN; sessionid=kn3dcvobf1pomjvdo3rpor9sfhkxkme9; file_538183_readed=\"\"; file_777_readed=\"\"'}\n"
   ],
   "outputs": [],
   "metadata": {}
  },
  {
   "cell_type": "code",
   "execution_count": 30,
   "source": [
    "session = requests.Session()\n",
    "main_page = session.get(url, headers=headers)"
   ],
   "outputs": [],
   "metadata": {}
  },
  {
   "cell_type": "code",
   "execution_count": 31,
   "source": [
    "source = main_page.text"
   ],
   "outputs": [],
   "metadata": {}
  },
  {
   "cell_type": "code",
   "execution_count": 32,
   "source": [
    "soup = BS(source, 'lxml')"
   ],
   "outputs": [],
   "metadata": {}
  },
  {
   "cell_type": "code",
   "execution_count": 33,
   "source": [
    "problems = soup.find_all('a', class_='clock-problem-title')\n",
    "print(len(problems))"
   ],
   "outputs": [
    {
     "output_type": "stream",
     "name": "stdout",
     "text": [
      "329\n"
     ]
    }
   ],
   "metadata": {}
  },
  {
   "cell_type": "code",
   "execution_count": 11,
   "source": [
    "domain = \"https://www.acwing.com\""
   ],
   "outputs": [],
   "metadata": {}
  },
  {
   "cell_type": "code",
   "execution_count": null,
   "source": [
    "i = 1\n",
    "for each in problems:\n",
    "    print(f'#{i}: {each.span.text}')\n",
    "    # print('https://www.acwing.com' + each.attrs['href'])\n",
    "    href = each.attrs['href']\n",
    "    page = requests.get(f'{domain}{href}', headers=headers)\n",
    "    each_soup = BS(page.text, 'lxml')\n",
    "    target = each_soup.find('a', class_='label label-info')\n",
    "    # print(target)\n",
    "    original_link = target.attrs['href']\n",
    "    print(f'will replace {each.attrs[\"href\"]} with {original_link}')\n",
    "    # print(source.find(each.attrs['href']))\n",
    "    source = source.replace(each.attrs['href'], original_link)\n",
    "    i += 1\n",
    "    sleep(1)"
   ],
   "outputs": [],
   "metadata": {}
  },
  {
   "cell_type": "code",
   "execution_count": 27,
   "source": [
    "with open('source.html', 'w') as f:\n",
    "    f.write(source)"
   ],
   "outputs": [],
   "metadata": {}
  }
 ],
 "metadata": {
  "orig_nbformat": 4,
  "language_info": {
   "name": "python",
   "version": "3.8.10",
   "mimetype": "text/x-python",
   "codemirror_mode": {
    "name": "ipython",
    "version": 3
   },
   "pygments_lexer": "ipython3",
   "nbconvert_exporter": "python",
   "file_extension": ".py"
  },
  "kernelspec": {
   "name": "python3",
   "display_name": "Python 3.8.10 64-bit"
  },
  "interpreter": {
   "hash": "916dbcbb3f70747c44a77c7bcd40155683ae19c65e1c03b4aa3499c5328201f1"
  }
 },
 "nbformat": 4,
 "nbformat_minor": 2
}