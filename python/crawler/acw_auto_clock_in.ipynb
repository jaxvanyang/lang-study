{
 "cells": [
  {
   "cell_type": "markdown",
   "source": [
    "# AcWing 自动打卡\n",
    "\n",
    "> \"clock in\" means \"打卡\"\n",
    "\n",
    "acw_auto_clock_in"
   ],
   "metadata": {}
  },
  {
   "cell_type": "code",
   "execution_count": 1,
   "source": [
    "from bs4 import BeautifulSoup as BS\n",
    "import requests\n",
    "from time import sleep\n",
    "\n",
    "domain = \"https://www.acwing.com\"\n",
    "url = 'https://www.acwing.com/activity/content/punch_the_clock/6/'\n",
    "headers = {\n",
    "    'Connection': 'keep-alive',\n",
    "    'sec-ch-ua': '\"Chromium\";v=\"92\", \" Not A;Brand\";v=\"99\", \"Microsoft Edge\";v=\"92\"',\n",
    "    'sec-ch-ua-mobile': '?0',\n",
    "    'Upgrade-Insecure-Requests': '1',\n",
    "    'DNT': '1',\n",
    "    'User-Agent': 'Mozilla/5.0 (X11; Linux x86_64) AppleWebKit/537.36 (KHTML, like Gecko) Chrome/92.0.4515.107 Safari/537.36 Edg/92.0.902.62',\n",
    "    'Accept': 'text/html,application/xhtml+xml,application/xml;q=0.9,image/webp,image/apng,*/*;q=0.8,application/signed-exchange;v=b3;q=0.9',\n",
    "    'Sec-Fetch-Site': 'same-origin',\n",
    "    'Sec-Fetch-Mode': 'navigate',\n",
    "    'Sec-Fetch-User': '?1',\n",
    "    'Sec-Fetch-Dest': 'document',\n",
    "    'Referer': 'https://www.acwing.com/activity/content/punch_the_clock/6/',\n",
    "    'Accept-Language': 'en-US,en;q=0.9,zh-CN;q=0.8,zh;q=0.7',\n",
    "    'Cookie': 'file_2875_readed=\"\"; file_4838_readed=\"\"; csrftoken=EfzcZAwbFzJHjk2ryKSlARMHBW94cT0Q4zmCAj8VZdCfp2hvJMRuyvGMgZ5sPmrN; sessionid=kn3dcvobf1pomjvdo3rpor9sfhkxkme9; file_538183_readed=\"\"; file_777_readed=\"\"'}\n",
    "\n",
    "\n",
    "session = requests.Session()\n",
    "main_page = session.get(url, headers=headers)\n",
    "source = main_page.text\n",
    "soup = BS(source, 'lxml')"
   ],
   "outputs": [],
   "metadata": {}
  },
  {
   "cell_type": "markdown",
   "source": [
    "Save code for clocking in:\n",
    "```shell\n",
    "curl 'https://www.acwing.com/activity/content/code/add/332/' \\\n",
    "  -H 'Connection: keep-alive' \\\n",
    "  -H 'sec-ch-ua: \"Chromium\";v=\"92\", \" Not A;Brand\";v=\"99\", \"Microsoft Edge\";v=\"92\"' \\\n",
    "  -H 'DNT: 1' \\\n",
    "  -H 'sec-ch-ua-mobile: ?0' \\\n",
    "  -H 'User-Agent: Mozilla/5.0 (X11; Linux x86_64) AppleWebKit/537.36 (KHTML, like Gecko) Chrome/92.0.4515.107 Safari/537.36 Edg/92.0.902.62' \\\n",
    "  -H 'Content-Type: application/x-www-form-urlencoded; charset=UTF-8' \\\n",
    "  -H 'Accept: application/json, text/javascript, */*; q=0.01' \\\n",
    "  -H 'X-Requested-With: XMLHttpRequest' \\\n",
    "  -H 'X-CSRFToken: EfzcZAwbFzJHjk2ryKSlARMHBW94cT0Q4zmCAj8VZdCfp2hvJMRuyvGMgZ5sPmrN' \\\n",
    "  -H 'Origin: https://www.acwing.com' \\\n",
    "  -H 'Sec-Fetch-Site: same-origin' \\\n",
    "  -H 'Sec-Fetch-Mode: cors' \\\n",
    "  -H 'Sec-Fetch-Dest: empty' \\\n",
    "  -H 'Referer: https://www.acwing.com/activity/content/code/add/332/' \\\n",
    "  -H 'Accept-Language: en-US,en;q=0.9,zh-CN;q=0.8,zh;q=0.7' \\\n",
    "  -H 'Cookie: csrftoken=EfzcZAwbFzJHjk2ryKSlARMHBW94cT0Q4zmCAj8VZdCfp2hvJMRuyvGMgZ5sPmrN; sessionid=kn3dcvobf1pomjvdo3rpor9sfhkxkme9; file_2602150_readed=\"\"' \\\n",
    "  --data-raw 'csrfmiddlewaretoken=gtHA2ycnc8MRtoBdSkOqQ0f3uue23sKiGNu0DhO7wMFpz6Qh3mNzOE989xaqGVbf&language=1&content=%5B%2F%2F%5D%3A+%23+(%E6%89%93%E5%8D%A1%E6%A8%A1%E6%9D%BF%EF%BC%8C%E4%B8%8A%E9%9D%A2%E9%A2%84%E8%A7%88%E6%8C%89%E9%92%AE%E5%8F%AF%E4%BB%A5%E5%B1%95%E7%A4%BA%E9%A2%84%E8%A7%88%E6%95%88%E6%9E%9C+%5E%5E)%0D%0A%60%60%60%0D%0A%2F%2F%E8%BF%99%E9%87%8C%E5%A1%AB%E4%BD%A0%E7%9A%84%E4%BB%A3%E7%A0%81%5E%5E%0D%0A%2F%2F%E6%B3%A8%E6%84%8F%E4%BB%A3%E7%A0%81%E8%A6%81%E6%94%BE%E5%9C%A8%E4%B8%A4%E7%BB%84%E4%B8%89%E4%B8%AA%E7%82%B9%E4%B9%8B%E9%97%B4%EF%BC%8C%E6%89%8D%E5%8F%AF%E4%BB%A5%E6%AD%A3%E7%A1%AE%E6%98%BE%E7%A4%BA%E4%BB%A3%E7%A0%81%E9%AB%98%E4%BA%AE%E5%93%A6~%0D%0A%60%60%60&type=save' \\\n",
    "  --compressed\n",
    "```"
   ],
   "metadata": {}
  },
  {
   "cell_type": "code",
   "execution_count": 2,
   "source": [
    "s = '%5B%2F%2F%5D%3A+%23+(%E6%89%93%E5%8D%A1%E6%A8%A1%E6%9D%BF%EF%BC%8C%E4%B8%8A%E9%9D%A2%E9%A2%84%E8%A7%88%E6%8C%89%E9%92%AE%E5%8F%AF%E4%BB%A5%E5%B1%95%E7%A4%BA%E9%A2%84%E8%A7%88%E6%95%88%E6%9E%9C+%5E%5E)%0D%0A%60%60%60%0D%0A%2F%2F%E8%BF%99%E9%87%8C%E5%A1%AB%E4%BD%A0%E7%9A%84%E4%BB%A3%E7%A0%81%5E%5E%0D%0A%2F%2F%E6%B3%A8%E6%84%8F%E4%BB%A3%E7%A0%81%E8%A6%81%E6%94%BE%E5%9C%A8%E4%B8%A4%E7%BB%84%E4%B8%89%E4%B8%AA%E7%82%B9%E4%B9%8B%E9%97%B4%EF%BC%8C%E6%89%8D%E5%8F%AF%E4%BB%A5%E6%AD%A3%E7%A1%AE%E6%98%BE%E7%A4%BA%E4%BB%A3%E7%A0%81%E9%AB%98%E4%BA%AE%E5%93%A6~%0D%0A%60%60%60'\n",
    "print(s)"
   ],
   "outputs": [
    {
     "output_type": "stream",
     "name": "stdout",
     "text": [
      "%5B%2F%2F%5D%3A+%23+(%E6%89%93%E5%8D%A1%E6%A8%A1%E6%9D%BF%EF%BC%8C%E4%B8%8A%E9%9D%A2%E9%A2%84%E8%A7%88%E6%8C%89%E9%92%AE%E5%8F%AF%E4%BB%A5%E5%B1%95%E7%A4%BA%E9%A2%84%E8%A7%88%E6%95%88%E6%9E%9C+%5E%5E)%0D%0A%60%60%60%0D%0A%2F%2F%E8%BF%99%E9%87%8C%E5%A1%AB%E4%BD%A0%E7%9A%84%E4%BB%A3%E7%A0%81%5E%5E%0D%0A%2F%2F%E6%B3%A8%E6%84%8F%E4%BB%A3%E7%A0%81%E8%A6%81%E6%94%BE%E5%9C%A8%E4%B8%A4%E7%BB%84%E4%B8%89%E4%B8%AA%E7%82%B9%E4%B9%8B%E9%97%B4%EF%BC%8C%E6%89%8D%E5%8F%AF%E4%BB%A5%E6%AD%A3%E7%A1%AE%E6%98%BE%E7%A4%BA%E4%BB%A3%E7%A0%81%E9%AB%98%E4%BA%AE%E5%93%A6~%0D%0A%60%60%60\n"
     ]
    }
   ],
   "metadata": {}
  },
  {
   "cell_type": "code",
   "execution_count": 5,
   "source": [
    "import urllib\n",
    "s = urllib.parse.unquote(s)\n",
    "print(s)"
   ],
   "outputs": [
    {
     "output_type": "stream",
     "name": "stdout",
     "text": [
      "[//]:+#+(打卡模板，上面预览按钮可以展示预览效果+^^)\n",
      "```\n",
      "//这里填你的代码^^\n",
      "//注意代码要放在两组三个点之间，才可以正确显示代码高亮哦~\n",
      "```\n"
     ]
    }
   ],
   "metadata": {}
  },
  {
   "cell_type": "code",
   "execution_count": 1,
   "source": [
    "from bs4 import BeautifulSoup as BS\n",
    "import requests\n",
    "import time\n",
    "from getpass import getpass\n",
    "import json"
   ],
   "outputs": [],
   "metadata": {}
  },
  {
   "cell_type": "code",
   "execution_count": 2,
   "source": [
    "domain = 'https://www.acwing.com'\n",
    "success_message = '{\"error_message\": \"success\"}'\n",
    "\n",
    "# url = input('请输入需要自动打卡的活动打卡页面（默认为《算法竞赛进阶指南》打卡页面：')\n",
    "# if len(url) == 0:\n",
    "url = 'https://www.acwing.com/activity/content/punch_the_clock/6/'"
   ],
   "outputs": [],
   "metadata": {}
  },
  {
   "cell_type": "code",
   "execution_count": 3,
   "source": [
    "login_url = 'https://www.acwing.com/user/account/signin/'\n",
    "\n",
    "# access the main page to get csrftoken\n",
    "session = requests.Session()\n",
    "session.get(domain)\n",
    "csrftoken = session.cookies['csrftoken']\n",
    "\n",
    "# get login username & password\n",
    "print('请输入 AcWing 的登录信息，输入密码不显示是正常的')\n",
    "# username = input('用户名或邮箱：')\n",
    "username = 'jaxvanyang'\n",
    "# password = getpass('密码（输完后按回车）：')\n",
    "password = '9Ewrbhya_H.kDbE'\n",
    "\n",
    "# set login form\n",
    "login_headers = {\n",
    "    'Connection': 'keep-alive',\n",
    "    'sec-ch-ua': '\"Microsoft Edge\";v=\"93\", \" Not;A Brand\";v=\"99\", \"Chromium\";v=\"93\"',\n",
    "    'DNT': '1',\n",
    "    'sec-ch-ua-mobile': '?0',\n",
    "    'User-Agent': 'Mozilla/5.0 (X11; Linux x86_64) AppleWebKit/537.36 (KHTML, like Gecko) Chrome/93.0.4577.25 Safari/537.36 Edg/93.0.961.18',\n",
    "    'Content-Type': 'application/x-www-form-urlencoded; charset=UTF-8',\n",
    "    'Accept': 'application/json, text/javascript, */*; q=0.01',\n",
    "    # 'X-Requested-With': 'XMLHttpRequest',\n",
    "    # 'X-CSRFToken': 'r2si6L74DMG5QfYhs2lqYsW7TlIVIPCJsj8mTXXUAcNpVUkILw5Hwferk9lpL5Ly',\n",
    "    'sec-ch-ua-platform': '\"Linux\"',\n",
    "    'Origin': 'https://www.acwing.com',\n",
    "    'Sec-Fetch-Site': 'same-origin',\n",
    "    'Sec-Fetch-Mode': 'cors',\n",
    "    'Sec-Fetch-Dest': 'empty',\n",
    "    'Referer': domain,\n",
    "    'Accept-Language': 'en-US,en;q=0.9,zh-CN;q=0.8,zh;q=0.7',\n",
    "}\n",
    "login_data = {\n",
    "  'csrfmiddlewaretoken': csrftoken,\n",
    "  'username': username,\n",
    "  'password': password,\n",
    "  'remember_me': 'on'\n",
    "}\n",
    "\n",
    "# login in ACWing\n",
    "login_result = session.post(login_url, headers=login_headers, data=login_data).text\n",
    "if login_result == success_message:\n",
    "  print('登录成功')\n",
    "else:\n",
    "  print('登录失败，请确认帐密无误')\n",
    "  exit(0)"
   ],
   "outputs": [
    {
     "output_type": "stream",
     "name": "stdout",
     "text": [
      "请输入 AcWing 的登录信息，输入密码不显示是正常的\n",
      "登录成功\n"
     ]
    }
   ],
   "metadata": {}
  },
  {
   "cell_type": "code",
   "execution_count": 12,
   "source": [
    "def check_response(response):\n",
    "  try:\n",
    "    j = json.loads(response.text)\n",
    "  except ValueError as e:\n",
    "    return False\n",
    "  if 'error_message' in j:\n",
    "    return j['error_message'] == 'success'\n",
    "  return False"
   ],
   "outputs": [],
   "metadata": {}
  },
  {
   "cell_type": "code",
   "execution_count": 6,
   "source": [
    "cookies = {\n",
    "    'csrftoken': csrftoken,\n",
    "    'sessionid': session.cookies['sessionid'],\n",
    "}\n",
    "\n",
    "headers = {\n",
    "    'Connection': 'keep-alive',\n",
    "    'sec-ch-ua': '\"Microsoft Edge\";v=\"93\", \" Not;A Brand\";v=\"99\", \"Chromium\";v=\"93\"',\n",
    "    'DNT': '1',\n",
    "    'sec-ch-ua-mobile': '?0',\n",
    "    'User-Agent': 'Mozilla/5.0 (X11; Linux x86_64) AppleWebKit/537.36 (KHTML, like Gecko) Chrome/93.0.4577.25 Safari/537.36 Edg/93.0.961.18',\n",
    "    'Content-Type': 'application/x-www-form-urlencoded; charset=UTF-8',\n",
    "    'Accept': 'application/json, text/javascript, */*; q=0.01',\n",
    "    'X-Requested-With': 'XMLHttpRequest',\n",
    "    'X-CSRFToken': csrftoken,\n",
    "    'sec-ch-ua-platform': '\"Linux\"',\n",
    "    'Origin': 'https://www.acwing.com',\n",
    "    'Sec-Fetch-Site': 'same-origin',\n",
    "    'Sec-Fetch-Mode': 'cors',\n",
    "    'Sec-Fetch-Dest': 'empty',\n",
    "    'Referer': 'https://www.acwing.com/activity/content/code/add/656/',\n",
    "    'Accept-Language': 'en-US,en;q=0.9,zh-CN;q=0.8,zh;q=0.7',\n",
    "}\n",
    "\n",
    "data = {\n",
    "  'language': '1',\n",
    "  'content': 'submit test',\n",
    "  'type': 'submit'\n",
    "}\n",
    "\n",
    "response = session.post('https://www.acwing.com/activity/content/code/add/656/', headers=headers, cookies=cookies, data=data)\n",
    "\n",
    "if check_response(response):\n",
    "  print('')"
   ],
   "outputs": [
    {
     "output_type": "stream",
     "name": "stdout",
     "text": [
      "{\"error_message\": \"success\", \"success_url\": \"/activity/content/record/6/1/\"}\n"
     ]
    }
   ],
   "metadata": {}
  },
  {
   "cell_type": "code",
   "execution_count": 10,
   "source": [],
   "outputs": [
    {
     "output_type": "stream",
     "name": "stdout",
     "text": [
      "{jdksjd}{}\n"
     ]
    },
    {
     "output_type": "error",
     "ename": "JSONDecodeError",
     "evalue": "Expecting property name enclosed in double quotes: line 1 column 2 (char 1)",
     "traceback": [
      "\u001b[0;31m---------------------------------------------------------------------------\u001b[0m",
      "\u001b[0;31mJSONDecodeError\u001b[0m                           Traceback (most recent call last)",
      "\u001b[0;32m/tmp/ipykernel_16507/1886539693.py\u001b[0m in \u001b[0;36m<module>\u001b[0;34m\u001b[0m\n\u001b[1;32m      1\u001b[0m \u001b[0ms\u001b[0m \u001b[0;34m=\u001b[0m \u001b[0;34m'{jdksjd}{}'\u001b[0m\u001b[0;34m\u001b[0m\u001b[0;34m\u001b[0m\u001b[0m\n\u001b[1;32m      2\u001b[0m \u001b[0mprint\u001b[0m\u001b[0;34m(\u001b[0m\u001b[0ms\u001b[0m\u001b[0;34m)\u001b[0m\u001b[0;34m\u001b[0m\u001b[0;34m\u001b[0m\u001b[0m\n\u001b[0;32m----> 3\u001b[0;31m \u001b[0mj\u001b[0m \u001b[0;34m=\u001b[0m \u001b[0mjson\u001b[0m\u001b[0;34m.\u001b[0m\u001b[0mloads\u001b[0m\u001b[0;34m(\u001b[0m\u001b[0ms\u001b[0m\u001b[0;34m)\u001b[0m\u001b[0;34m\u001b[0m\u001b[0;34m\u001b[0m\u001b[0m\n\u001b[0m",
      "\u001b[0;32m/usr/lib/python3.8/json/__init__.py\u001b[0m in \u001b[0;36mloads\u001b[0;34m(s, cls, object_hook, parse_float, parse_int, parse_constant, object_pairs_hook, **kw)\u001b[0m\n\u001b[1;32m    355\u001b[0m             \u001b[0mparse_int\u001b[0m \u001b[0;32mis\u001b[0m \u001b[0;32mNone\u001b[0m \u001b[0;32mand\u001b[0m \u001b[0mparse_float\u001b[0m \u001b[0;32mis\u001b[0m \u001b[0;32mNone\u001b[0m \u001b[0;32mand\u001b[0m\u001b[0;34m\u001b[0m\u001b[0;34m\u001b[0m\u001b[0m\n\u001b[1;32m    356\u001b[0m             parse_constant is None and object_pairs_hook is None and not kw):\n\u001b[0;32m--> 357\u001b[0;31m         \u001b[0;32mreturn\u001b[0m \u001b[0m_default_decoder\u001b[0m\u001b[0;34m.\u001b[0m\u001b[0mdecode\u001b[0m\u001b[0;34m(\u001b[0m\u001b[0ms\u001b[0m\u001b[0;34m)\u001b[0m\u001b[0;34m\u001b[0m\u001b[0;34m\u001b[0m\u001b[0m\n\u001b[0m\u001b[1;32m    358\u001b[0m     \u001b[0;32mif\u001b[0m \u001b[0mcls\u001b[0m \u001b[0;32mis\u001b[0m \u001b[0;32mNone\u001b[0m\u001b[0;34m:\u001b[0m\u001b[0;34m\u001b[0m\u001b[0;34m\u001b[0m\u001b[0m\n\u001b[1;32m    359\u001b[0m         \u001b[0mcls\u001b[0m \u001b[0;34m=\u001b[0m \u001b[0mJSONDecoder\u001b[0m\u001b[0;34m\u001b[0m\u001b[0;34m\u001b[0m\u001b[0m\n",
      "\u001b[0;32m/usr/lib/python3.8/json/decoder.py\u001b[0m in \u001b[0;36mdecode\u001b[0;34m(self, s, _w)\u001b[0m\n\u001b[1;32m    335\u001b[0m \u001b[0;34m\u001b[0m\u001b[0m\n\u001b[1;32m    336\u001b[0m         \"\"\"\n\u001b[0;32m--> 337\u001b[0;31m         \u001b[0mobj\u001b[0m\u001b[0;34m,\u001b[0m \u001b[0mend\u001b[0m \u001b[0;34m=\u001b[0m \u001b[0mself\u001b[0m\u001b[0;34m.\u001b[0m\u001b[0mraw_decode\u001b[0m\u001b[0;34m(\u001b[0m\u001b[0ms\u001b[0m\u001b[0;34m,\u001b[0m \u001b[0midx\u001b[0m\u001b[0;34m=\u001b[0m\u001b[0m_w\u001b[0m\u001b[0;34m(\u001b[0m\u001b[0ms\u001b[0m\u001b[0;34m,\u001b[0m \u001b[0;36m0\u001b[0m\u001b[0;34m)\u001b[0m\u001b[0;34m.\u001b[0m\u001b[0mend\u001b[0m\u001b[0;34m(\u001b[0m\u001b[0;34m)\u001b[0m\u001b[0;34m)\u001b[0m\u001b[0;34m\u001b[0m\u001b[0;34m\u001b[0m\u001b[0m\n\u001b[0m\u001b[1;32m    338\u001b[0m         \u001b[0mend\u001b[0m \u001b[0;34m=\u001b[0m \u001b[0m_w\u001b[0m\u001b[0;34m(\u001b[0m\u001b[0ms\u001b[0m\u001b[0;34m,\u001b[0m \u001b[0mend\u001b[0m\u001b[0;34m)\u001b[0m\u001b[0;34m.\u001b[0m\u001b[0mend\u001b[0m\u001b[0;34m(\u001b[0m\u001b[0;34m)\u001b[0m\u001b[0;34m\u001b[0m\u001b[0;34m\u001b[0m\u001b[0m\n\u001b[1;32m    339\u001b[0m         \u001b[0;32mif\u001b[0m \u001b[0mend\u001b[0m \u001b[0;34m!=\u001b[0m \u001b[0mlen\u001b[0m\u001b[0;34m(\u001b[0m\u001b[0ms\u001b[0m\u001b[0;34m)\u001b[0m\u001b[0;34m:\u001b[0m\u001b[0;34m\u001b[0m\u001b[0;34m\u001b[0m\u001b[0m\n",
      "\u001b[0;32m/usr/lib/python3.8/json/decoder.py\u001b[0m in \u001b[0;36mraw_decode\u001b[0;34m(self, s, idx)\u001b[0m\n\u001b[1;32m    351\u001b[0m         \"\"\"\n\u001b[1;32m    352\u001b[0m         \u001b[0;32mtry\u001b[0m\u001b[0;34m:\u001b[0m\u001b[0;34m\u001b[0m\u001b[0;34m\u001b[0m\u001b[0m\n\u001b[0;32m--> 353\u001b[0;31m             \u001b[0mobj\u001b[0m\u001b[0;34m,\u001b[0m \u001b[0mend\u001b[0m \u001b[0;34m=\u001b[0m \u001b[0mself\u001b[0m\u001b[0;34m.\u001b[0m\u001b[0mscan_once\u001b[0m\u001b[0;34m(\u001b[0m\u001b[0ms\u001b[0m\u001b[0;34m,\u001b[0m \u001b[0midx\u001b[0m\u001b[0;34m)\u001b[0m\u001b[0;34m\u001b[0m\u001b[0;34m\u001b[0m\u001b[0m\n\u001b[0m\u001b[1;32m    354\u001b[0m         \u001b[0;32mexcept\u001b[0m \u001b[0mStopIteration\u001b[0m \u001b[0;32mas\u001b[0m \u001b[0merr\u001b[0m\u001b[0;34m:\u001b[0m\u001b[0;34m\u001b[0m\u001b[0;34m\u001b[0m\u001b[0m\n\u001b[1;32m    355\u001b[0m             \u001b[0;32mraise\u001b[0m \u001b[0mJSONDecodeError\u001b[0m\u001b[0;34m(\u001b[0m\u001b[0;34m\"Expecting value\"\u001b[0m\u001b[0;34m,\u001b[0m \u001b[0ms\u001b[0m\u001b[0;34m,\u001b[0m \u001b[0merr\u001b[0m\u001b[0;34m.\u001b[0m\u001b[0mvalue\u001b[0m\u001b[0;34m)\u001b[0m \u001b[0;32mfrom\u001b[0m \u001b[0;32mNone\u001b[0m\u001b[0;34m\u001b[0m\u001b[0;34m\u001b[0m\u001b[0m\n",
      "\u001b[0;31mJSONDecodeError\u001b[0m: Expecting property name enclosed in double quotes: line 1 column 2 (char 1)"
     ]
    }
   ],
   "metadata": {}
  }
 ],
 "metadata": {
  "orig_nbformat": 4,
  "language_info": {
   "name": "python",
   "version": "3.8.10",
   "mimetype": "text/x-python",
   "codemirror_mode": {
    "name": "ipython",
    "version": 3
   },
   "pygments_lexer": "ipython3",
   "nbconvert_exporter": "python",
   "file_extension": ".py"
  },
  "kernelspec": {
   "name": "python3",
   "display_name": "Python 3.8.10 64-bit"
  },
  "interpreter": {
   "hash": "916dbcbb3f70747c44a77c7bcd40155683ae19c65e1c03b4aa3499c5328201f1"
  }
 },
 "nbformat": 4,
 "nbformat_minor": 2
}