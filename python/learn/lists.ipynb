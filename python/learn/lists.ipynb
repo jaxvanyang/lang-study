{
 "cells": [
  {
   "cell_type": "code",
   "execution_count": null,
   "source": [],
   "outputs": [],
   "metadata": {}
  },
  {
   "cell_type": "code",
   "execution_count": 1,
   "source": [
    "colors = [\"red\", \"green\", \"blue\", \"yellow\", \"orangle\", \"purple\", \"brown\"]\n",
    "print(colors)\n",
    "print(type(colors))"
   ],
   "outputs": [
    {
     "output_type": "stream",
     "name": "stdout",
     "text": [
      "['red', 'green', 'blue', 'yellow', 'orangle', 'purple', 'brown']\n",
      "<class 'list'>\n"
     ]
    }
   ],
   "metadata": {}
  },
  {
   "cell_type": "code",
   "execution_count": 2,
   "source": [
    "sundry = [\"John\", 3.14, 7, False]\n",
    "print(sundry)\n",
    "print(type(sundry))"
   ],
   "outputs": [
    {
     "output_type": "stream",
     "name": "stdout",
     "text": [
      "['John', 3.14, 7, False]\n",
      "<class 'list'>\n"
     ]
    }
   ],
   "metadata": {}
  },
  {
   "cell_type": "code",
   "execution_count": 3,
   "source": [
    "colors = [\"red\", \"green\", \"blue\", \"yellow\", \"orangle\", \"purple\", \"brown\"]\n",
    "\n",
    "print(f\"0-based indexing into the list ... second item: {colors[1]}\")\n",
    "\n",
    "print(f\"Last item of the list: {colors[-1]}\")\n",
    "\n",
    "print(f\"Next to last item in the list: {colors[-2]}\")"
   ],
   "outputs": [
    {
     "output_type": "stream",
     "name": "stdout",
     "text": [
      "0-based indexing into the list ... second item: green\n",
      "Last item of the list: brown\n",
      "Next to last item in the list: purple\n"
     ]
    }
   ],
   "metadata": {}
  },
  {
   "cell_type": "code",
   "execution_count": 5,
   "source": [
    "colors = [\"red\", \"green\", \"blue\", \"yellow\", \"orangle\", \"purple\", \"brown\"]\n",
    "\n",
    "print(\"\\nPrint a SLICE, starting at index 2 and excluding index 5:\")\n",
    "print(colors[2:5])\n",
    "print(type(colors[2:5]))\n",
    "\n",
    "print(\"\\nPrint a slice, starting at index 0 to index 3:\")\n",
    "print(colors[:3])\n",
    "\n",
    "print(\"\\nPrint a slice, starting at index 4 to the end of the list:\")\n",
    "print(colors[4:])\n",
    "\n",
    "print(\"\\nPrint a slice, from the 4th from the end (but not the last item):\")\n",
    "print(colors[-4:-1])"
   ],
   "outputs": [
    {
     "output_type": "stream",
     "name": "stdout",
     "text": [
      "\n",
      "Print a SLICE, starting at index 2 and excluding index 5:\n",
      "['blue', 'yellow', 'orangle']\n",
      "<class 'list'>\n",
      "\n",
      "Print a slice, starting at index 0 to index 3:\n",
      "['red', 'green', 'blue']\n",
      "\n",
      "Print a slice, starting at index 4 to the end of the list:\n",
      "['orangle', 'purple', 'brown']\n",
      "\n",
      "Print a slice, from the 4th from the end (but not the last item):\n",
      "['yellow', 'orangle', 'purple']\n"
     ]
    }
   ],
   "metadata": {}
  },
  {
   "cell_type": "code",
   "execution_count": 6,
   "source": [
    "colors = [\"red\", \"green\", \"blue\", \"yellow\", \"orangle\", \"purple\", \"brown\"]\n",
    "\n",
    "colors.reverse()\n",
    "print(colors)\n",
    "\n",
    "colors.sort()\n",
    "print(colors)"
   ],
   "outputs": [
    {
     "output_type": "stream",
     "name": "stdout",
     "text": [
      "['brown', 'purple', 'orangle', 'yellow', 'blue', 'green', 'red']\n",
      "['blue', 'brown', 'green', 'orangle', 'purple', 'red', 'yellow']\n"
     ]
    }
   ],
   "metadata": {}
  },
  {
   "cell_type": "code",
   "execution_count": 7,
   "source": [
    "colors = [\"red\", \"green\", \"blue\", \"yellow\", \"orangle\", \"purple\", \"brown\"]\n",
    "\n",
    "color = colors.pop(0)\n",
    "print(\"popped\", color)\n",
    "\n",
    "print(colors)"
   ],
   "outputs": [
    {
     "output_type": "stream",
     "name": "stdout",
     "text": [
      "popped red\n",
      "['green', 'blue', 'yellow', 'orangle', 'purple', 'brown']\n"
     ]
    }
   ],
   "metadata": {}
  },
  {
   "cell_type": "code",
   "execution_count": 8,
   "source": [
    "colors = [\"red\", \"green\", \"blue\", \"yellow\", \"orangle\", \"purple\", \"brown\"]\n",
    "\n",
    "print(colors)\n",
    "\n",
    "colors.append(\"black\")\n",
    "colors.append(\"white\")\n",
    "\n",
    "colors.remove(\"yellow\")\n",
    "colors.remove(\"orangle\")\n",
    "\n",
    "print(colors)"
   ],
   "outputs": [
    {
     "output_type": "stream",
     "name": "stdout",
     "text": [
      "['red', 'green', 'blue', 'yellow', 'orangle', 'purple', 'brown']\n",
      "['red', 'green', 'blue', 'purple', 'brown', 'black', 'white']\n"
     ]
    }
   ],
   "metadata": {}
  },
  {
   "cell_type": "code",
   "execution_count": 9,
   "source": [
    "colors = [\"red\", \"green\", \"blue\", \"yellow\", \"orangle\", \"purple\", \"brown\"]\n",
    "\n",
    "new_colors = [\"lime\", \"gray\"]\n",
    "colors.extend(new_colors)\n",
    "print(colors)"
   ],
   "outputs": [
    {
     "output_type": "stream",
     "name": "stdout",
     "text": [
      "['red', 'green', 'blue', 'yellow', 'orangle', 'purple', 'brown', 'lime', 'gray']\n"
     ]
    }
   ],
   "metadata": {}
  },
  {
   "cell_type": "code",
   "execution_count": 10,
   "source": [
    "colors = [\"red\", \"green\", \"blue\", \"yellow\", \"orangle\", \"purple\", \"brown\"]\n",
    "\n",
    "print(colors)\n",
    "colors.clear()\n",
    "print(colors)"
   ],
   "outputs": [
    {
     "output_type": "stream",
     "name": "stdout",
     "text": [
      "['red', 'green', 'blue', 'yellow', 'orangle', 'purple', 'brown']\n",
      "[]\n"
     ]
    }
   ],
   "metadata": {}
  },
  {
   "cell_type": "code",
   "execution_count": 19,
   "source": [
    "import random\n",
    "numbers = []\n",
    "\n",
    "while len(numbers) < 5:\n",
    "    numbers.append(random.randint(1, 100))\n",
    "\n",
    "for number in numbers:\n",
    "    print(number)\n",
    "    if number >= 90:\n",
    "        print(\"Found at least one number greater than 90\")\n",
    "        break\n",
    "else:\n",
    "    print(\"No number greater than 90\")\n",
    "\n",
    "print(\"Complete\")"
   ],
   "outputs": [
    {
     "output_type": "stream",
     "name": "stdout",
     "text": [
      "47\n",
      "7\n",
      "9\n",
      "98\n",
      "Found at least one number greater than 90\n",
      "Complete\n"
     ]
    }
   ],
   "metadata": {}
  },
  {
   "cell_type": "code",
   "execution_count": 21,
   "source": [
    "import random\n",
    "\n",
    "numbers = [42, 77, 16, 101, 23, 8, 4, 15, 55]\n",
    "selected_number = random.choice(numbers)\n",
    "print(selected_number)\n",
    "\n",
    "selected_number = random.choices(numbers, k=3)\n",
    "print(selected_number)"
   ],
   "outputs": [
    {
     "output_type": "stream",
     "name": "stdout",
     "text": [
      "55\n",
      "[42, 101, 55]\n"
     ]
    }
   ],
   "metadata": {}
  },
  {
   "cell_type": "code",
   "execution_count": 24,
   "source": [
    "import deck\n",
    "import random\n",
    "\n",
    "deck_cards = deck.create_deck()\n",
    "print(f\"There are {len(deck_cards)} cards in the deck.\")\n",
    "\n",
    "print(\"Dealing ...\")\n",
    "player_cards = random.choices(deck_cards, k=5)\n",
    "\n",
    "for card in player_cards:\n",
    "    deck_cards.remove(card)\n",
    "\n",
    "print(f\"There are {len(deck_cards)} cards in the deck.\")\n",
    "\n",
    "print(\"Player has the following cards in their hand:\")\n",
    "print(list(map(str, player_cards)))"
   ],
   "outputs": [
    {
     "output_type": "stream",
     "name": "stdout",
     "text": [
      "There are 52 cards in the deck.\n",
      "Dealing ...\n",
      "There are 47 cards in the deck.\n",
      "Player has the following cards in their hand:\n",
      "['5 of Diamonds', '4 of Clubs', '7 of Clubs', '5 of Spaders', '3 of Hearts']\n"
     ]
    }
   ],
   "metadata": {}
  }
 ],
 "metadata": {
  "orig_nbformat": 4,
  "language_info": {
   "name": "python",
   "version": "3.8.10",
   "mimetype": "text/x-python",
   "codemirror_mode": {
    "name": "ipython",
    "version": 3
   },
   "pygments_lexer": "ipython3",
   "nbconvert_exporter": "python",
   "file_extension": ".py"
  },
  "kernelspec": {
   "name": "python3",
   "display_name": "Python 3.8.10 64-bit"
  },
  "interpreter": {
   "hash": "916dbcbb3f70747c44a77c7bcd40155683ae19c65e1c03b4aa3499c5328201f1"
  }
 },
 "nbformat": 4,
 "nbformat_minor": 2
}