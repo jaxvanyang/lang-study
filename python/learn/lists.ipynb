{
 "cells": [
  {
   "cell_type": "code",
   "execution_count": 1,
   "metadata": {},
   "outputs": [
    {
     "name": "stdout",
     "output_type": "stream",
     "text": [
      "['red', 'green', 'blue', 'yellow', 'orangle', 'purple', 'brown']\n",
      "<class 'list'>\n"
     ]
    }
   ],
   "source": [
    "colors = [\"red\", \"green\", \"blue\", \"yellow\", \"orangle\", \"purple\", \"brown\"]\n",
    "print(colors)\n",
    "print(type(colors))"
   ]
  },
  {
   "cell_type": "code",
   "execution_count": 2,
   "metadata": {},
   "outputs": [
    {
     "name": "stdout",
     "output_type": "stream",
     "text": [
      "['John', 3.14, 7, False]\n",
      "<class 'list'>\n"
     ]
    }
   ],
   "source": [
    "sundry = [\"John\", 3.14, 7, False]\n",
    "print(sundry)\n",
    "print(type(sundry))"
   ]
  },
  {
   "cell_type": "code",
   "execution_count": 3,
   "metadata": {},
   "outputs": [
    {
     "name": "stdout",
     "output_type": "stream",
     "text": [
      "0-based indexing into the list ... second item: green\n",
      "Last item of the list: brown\n",
      "Next to last item in the list: purple\n"
     ]
    }
   ],
   "source": [
    "colors = [\"red\", \"green\", \"blue\", \"yellow\", \"orangle\", \"purple\", \"brown\"]\n",
    "\n",
    "print(f\"0-based indexing into the list ... second item: {colors[1]}\")\n",
    "\n",
    "print(f\"Last item of the list: {colors[-1]}\")\n",
    "\n",
    "print(f\"Next to last item in the list: {colors[-2]}\")"
   ]
  },
  {
   "cell_type": "code",
   "execution_count": 5,
   "metadata": {},
   "outputs": [
    {
     "name": "stdout",
     "output_type": "stream",
     "text": [
      "\n",
      "Print a SLICE, starting at index 2 and excluding index 5:\n",
      "['blue', 'yellow', 'orangle']\n",
      "<class 'list'>\n",
      "\n",
      "Print a slice, starting at index 0 to index 3:\n",
      "['red', 'green', 'blue']\n",
      "\n",
      "Print a slice, starting at index 4 to the end of the list:\n",
      "['orangle', 'purple', 'brown']\n",
      "\n",
      "Print a slice, from the 4th from the end (but not the last item):\n",
      "['yellow', 'orangle', 'purple']\n"
     ]
    }
   ],
   "source": [
    "colors = [\"red\", \"green\", \"blue\", \"yellow\", \"orangle\", \"purple\", \"brown\"]\n",
    "\n",
    "print(\"\\nPrint a SLICE, starting at index 2 and excluding index 5:\")\n",
    "print(colors[2:5])\n",
    "print(type(colors[2:5]))\n",
    "\n",
    "print(\"\\nPrint a slice, starting at index 0 to index 3:\")\n",
    "print(colors[:3])\n",
    "\n",
    "print(\"\\nPrint a slice, starting at index 4 to the end of the list:\")\n",
    "print(colors[4:])\n",
    "\n",
    "print(\"\\nPrint a slice, from the 4th from the end (but not the last item):\")\n",
    "print(colors[-4:-1])"
   ]
  },
  {
   "cell_type": "code",
   "execution_count": 6,
   "metadata": {},
   "outputs": [
    {
     "name": "stdout",
     "output_type": "stream",
     "text": [
      "['brown', 'purple', 'orangle', 'yellow', 'blue', 'green', 'red']\n",
      "['blue', 'brown', 'green', 'orangle', 'purple', 'red', 'yellow']\n"
     ]
    }
   ],
   "source": [
    "colors = [\"red\", \"green\", \"blue\", \"yellow\", \"orangle\", \"purple\", \"brown\"]\n",
    "\n",
    "colors.reverse()\n",
    "print(colors)\n",
    "\n",
    "colors.sort()\n",
    "print(colors)"
   ]
  },
  {
   "cell_type": "code",
   "execution_count": 7,
   "metadata": {},
   "outputs": [
    {
     "name": "stdout",
     "output_type": "stream",
     "text": [
      "popped red\n",
      "['green', 'blue', 'yellow', 'orangle', 'purple', 'brown']\n"
     ]
    }
   ],
   "source": [
    "colors = [\"red\", \"green\", \"blue\", \"yellow\", \"orangle\", \"purple\", \"brown\"]\n",
    "\n",
    "color = colors.pop(0)\n",
    "print(\"popped\", color)\n",
    "\n",
    "print(colors)"
   ]
  },
  {
   "cell_type": "code",
   "execution_count": 8,
   "metadata": {},
   "outputs": [
    {
     "name": "stdout",
     "output_type": "stream",
     "text": [
      "['red', 'green', 'blue', 'yellow', 'orangle', 'purple', 'brown']\n",
      "['red', 'green', 'blue', 'purple', 'brown', 'black', 'white']\n"
     ]
    }
   ],
   "source": [
    "colors = [\"red\", \"green\", \"blue\", \"yellow\", \"orangle\", \"purple\", \"brown\"]\n",
    "\n",
    "print(colors)\n",
    "\n",
    "colors.append(\"black\")\n",
    "colors.append(\"white\")\n",
    "\n",
    "colors.remove(\"yellow\")\n",
    "colors.remove(\"orangle\")\n",
    "\n",
    "print(colors)"
   ]
  },
  {
   "cell_type": "code",
   "execution_count": 9,
   "metadata": {},
   "outputs": [
    {
     "name": "stdout",
     "output_type": "stream",
     "text": [
      "['red', 'green', 'blue', 'yellow', 'orangle', 'purple', 'brown', 'lime', 'gray']\n"
     ]
    }
   ],
   "source": [
    "colors = [\"red\", \"green\", \"blue\", \"yellow\", \"orangle\", \"purple\", \"brown\"]\n",
    "\n",
    "new_colors = [\"lime\", \"gray\"]\n",
    "colors.extend(new_colors)\n",
    "print(colors)"
   ]
  },
  {
   "cell_type": "code",
   "execution_count": 10,
   "metadata": {},
   "outputs": [
    {
     "name": "stdout",
     "output_type": "stream",
     "text": [
      "['red', 'green', 'blue', 'yellow', 'orangle', 'purple', 'brown']\n",
      "[]\n"
     ]
    }
   ],
   "source": [
    "colors = [\"red\", \"green\", \"blue\", \"yellow\", \"orangle\", \"purple\", \"brown\"]\n",
    "\n",
    "print(colors)\n",
    "colors.clear()\n",
    "print(colors)"
   ]
  },
  {
   "cell_type": "code",
   "execution_count": 19,
   "metadata": {},
   "outputs": [
    {
     "name": "stdout",
     "output_type": "stream",
     "text": [
      "47\n",
      "7\n",
      "9\n",
      "98\n",
      "Found at least one number greater than 90\n",
      "Complete\n"
     ]
    }
   ],
   "source": [
    "import random\n",
    "numbers = []\n",
    "\n",
    "while len(numbers) < 5:\n",
    "    numbers.append(random.randint(1, 100))\n",
    "\n",
    "for number in numbers:\n",
    "    print(number)\n",
    "    if number >= 90:\n",
    "        print(\"Found at least one number greater than 90\")\n",
    "        break\n",
    "else:\n",
    "    print(\"No number greater than 90\")\n",
    "\n",
    "print(\"Complete\")"
   ]
  },
  {
   "cell_type": "code",
   "execution_count": 21,
   "metadata": {},
   "outputs": [
    {
     "name": "stdout",
     "output_type": "stream",
     "text": [
      "55\n",
      "[42, 101, 55]\n"
     ]
    }
   ],
   "source": [
    "import random\n",
    "\n",
    "numbers = [42, 77, 16, 101, 23, 8, 4, 15, 55]\n",
    "selected_number = random.choice(numbers)\n",
    "print(selected_number)\n",
    "\n",
    "selected_number = random.choices(numbers, k=3)\n",
    "print(selected_number)"
   ]
  },
  {
   "cell_type": "code",
   "execution_count": 24,
   "metadata": {},
   "outputs": [
    {
     "name": "stdout",
     "output_type": "stream",
     "text": [
      "There are 52 cards in the deck.\n",
      "Dealing ...\n",
      "There are 47 cards in the deck.\n",
      "Player has the following cards in their hand:\n",
      "['5 of Diamonds', '4 of Clubs', '7 of Clubs', '5 of Spaders', '3 of Hearts']\n"
     ]
    }
   ],
   "source": [
    "import deck\n",
    "import random\n",
    "\n",
    "deck_cards = deck.create_deck()\n",
    "print(f\"There are {len(deck_cards)} cards in the deck.\")\n",
    "\n",
    "print(\"Dealing ...\")\n",
    "player_cards = random.choices(deck_cards, k=5)\n",
    "\n",
    "for card in player_cards:\n",
    "    deck_cards.remove(card)\n",
    "\n",
    "print(f\"There are {len(deck_cards)} cards in the deck.\")\n",
    "\n",
    "print(\"Player has the following cards in their hand:\")\n",
    "print(list(map(str, player_cards)))"
   ]
  }
 ],
 "metadata": {
  "interpreter": {
   "hash": "916dbcbb3f70747c44a77c7bcd40155683ae19c65e1c03b4aa3499c5328201f1"
  },
  "kernelspec": {
   "display_name": "Python 3.8.10 64-bit",
   "name": "python3"
  },
  "language_info": {
   "codemirror_mode": {
    "name": "ipython",
    "version": 3
   },
   "file_extension": ".py",
   "mimetype": "text/x-python",
   "name": "python",
   "nbconvert_exporter": "python",
   "pygments_lexer": "ipython3",
   "version": "3.8.10"
  },
  "orig_nbformat": 4
 },
 "nbformat": 4,
 "nbformat_minor": 2
}
