{
 "cells": [
  {
   "cell_type": "markdown",
   "source": [
    "# Learn Python"
   ],
   "metadata": {}
  },
  {
   "cell_type": "code",
   "execution_count": 2,
   "source": [
    "import emoji\n",
    "\n",
    "message = emoji.emojize(\"Python is :thumbs_up:\")\n",
    "print(message)"
   ],
   "outputs": [
    {
     "output_type": "stream",
     "name": "stdout",
     "text": [
      "Python is 👍\n"
     ]
    }
   ],
   "metadata": {}
  },
  {
   "cell_type": "code",
   "execution_count": 1,
   "source": [
    "import deck\n",
    "\n",
    "cards = deck.create_deck()\n",
    "for card in cards:\n",
    "    print(card.emojize())"
   ],
   "outputs": [
    {
     "output_type": "stream",
     "name": "stdout",
     "text": [
      "♥ 2\n",
      "♥ 3\n",
      "♥ 4\n",
      "♥ 5\n",
      "♥ 6\n",
      "♥ 7\n",
      "♥ 8\n",
      "♥ 9\n",
      "♥ 10\n",
      "♥ Jack\n",
      "♥ Queen\n",
      "♥ King\n",
      "♥ Ace\n",
      "♣ 2\n",
      "♣ 3\n",
      "♣ 4\n",
      "♣ 5\n",
      "♣ 6\n",
      "♣ 7\n",
      "♣ 8\n",
      "♣ 9\n",
      "♣ 10\n",
      "♣ Jack\n",
      "♣ Queen\n",
      "♣ King\n",
      "♣ Ace\n",
      "♣ 2\n",
      "♣ 3\n",
      "♣ 4\n",
      "♣ 5\n",
      "♣ 6\n",
      "♣ 7\n",
      "♣ 8\n",
      "♣ 9\n",
      "♣ 10\n",
      "♣ Jack\n",
      "♣ Queen\n",
      "♣ King\n",
      "♣ Ace\n",
      "♦ 2\n",
      "♦ 3\n",
      "♦ 4\n",
      "♦ 5\n",
      "♦ 6\n",
      "♦ 7\n",
      "♦ 8\n",
      "♦ 9\n",
      "♦ 10\n",
      "♦ Jack\n",
      "♦ Queen\n",
      "♦ King\n",
      "♦ Ace\n"
     ]
    }
   ],
   "metadata": {}
  },
  {
   "cell_type": "code",
   "execution_count": null,
   "source": [
    "!ping cn.bing.com"
   ],
   "outputs": [],
   "metadata": {}
  },
  {
   "cell_type": "code",
   "execution_count": 1,
   "source": [
    "nums = [1, 2, 3, 4]\n",
    "\n",
    "nums.extend([nums[0], nums[1]])\n",
    "\n",
    "nums"
   ],
   "outputs": [],
   "metadata": {}
  }
 ],
 "metadata": {
  "orig_nbformat": 4,
  "language_info": {
   "name": "python",
   "version": "3.8.10",
   "mimetype": "text/x-python",
   "codemirror_mode": {
    "name": "ipython",
    "version": 3
   },
   "pygments_lexer": "ipython3",
   "nbconvert_exporter": "python",
   "file_extension": ".py"
  },
  "kernelspec": {
   "name": "python3",
   "display_name": "Python 3.8.10 64-bit"
  },
  "interpreter": {
   "hash": "916dbcbb3f70747c44a77c7bcd40155683ae19c65e1c03b4aa3499c5328201f1"
  }
 },
 "nbformat": 4,
 "nbformat_minor": 2
}