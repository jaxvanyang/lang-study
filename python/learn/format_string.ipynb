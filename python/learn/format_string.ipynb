{
 "cells": [
  {
   "cell_type": "code",
   "execution_count": 1,
   "source": [
    "raw_string = r\"A literal string with a \\n line character printed raw\"\n",
    "print(raw_string)\n",
    "\n",
    "verbatim_string = \"\"\"A literal string on more than one line\n",
    "    sometimes known as a verbatim string\"\"\"\n",
    "print(verbatim_string)"
   ],
   "outputs": [
    {
     "output_type": "stream",
     "name": "stdout",
     "text": [
      "A literal string with a \\n line character printed raw\n",
      "A literal string on more than one line\n",
      "    sometimes known as a verbatim string\n"
     ]
    }
   ],
   "metadata": {}
  },
  {
   "cell_type": "code",
   "execution_count": 2,
   "source": [
    "first = \"Conrad\"\n",
    "second = \"Grant\"\n",
    "third = \"Bob\"\n",
    "print(first, second)\n",
    "print(first, second, third)\n",
    "print(first, second, third, sep=\"-\")\n",
    "print(first, second, third, sep=\"-\", end=\".\")"
   ],
   "outputs": [
    {
     "output_type": "stream",
     "name": "stdout",
     "text": [
      "Conrad Grant\n",
      "Conrad Grant Bob\n",
      "Conrad-Grant-Bob\n",
      "Conrad-Grant-Bob."
     ]
    }
   ],
   "metadata": {}
  },
  {
   "cell_type": "code",
   "execution_count": 3,
   "source": [
    "message = str.capitalize(\"first message\")\n",
    "print(message)\n",
    "\n",
    "message = \"second message\".capitalize()\n",
    "print(message)\n",
    "\n",
    "message = \"third message\"\n",
    "print(message.capitalize())"
   ],
   "outputs": [
    {
     "output_type": "stream",
     "name": "stdout",
     "text": [
      "First message\n",
      "Second message\n",
      "Third message\n"
     ]
    }
   ],
   "metadata": {}
  },
  {
   "cell_type": "code",
   "execution_count": 5,
   "source": [
    "message = \"hello world\"\n",
    "print(message.lower())\n",
    "print(message.upper())\n",
    "\n",
    "message = message.title()\n",
    "print(message)\n",
    "print(message.swapcase())"
   ],
   "outputs": [
    {
     "output_type": "stream",
     "name": "stdout",
     "text": [
      "hello world\n",
      "HELLO WORLD\n",
      "Hello World\n",
      "hELLO wORLD\n"
     ]
    }
   ],
   "metadata": {}
  },
  {
   "cell_type": "code",
   "execution_count": 10,
   "source": [
    "location = \"Mississippi\"\n",
    "print(location.count(\"ss\"))"
   ],
   "outputs": [
    {
     "output_type": "stream",
     "name": "stdout",
     "text": [
      "2\n"
     ]
    }
   ],
   "metadata": {}
  },
  {
   "cell_type": "code",
   "execution_count": 7,
   "source": [
    "message = \"racecar\"\n",
    "print(message.startswith(\"r\"))\n",
    "print(message.startswith(\"a\"))\n",
    "print(message.startswith(\"ra\"))\n",
    "\n",
    "print(message.endswith(\"r\"))\n",
    "print(message.endswith(\"a\"))\n",
    "print(message.endswith(\"ar\"))"
   ],
   "outputs": [
    {
     "output_type": "stream",
     "name": "stdout",
     "text": [
      "True\n",
      "False\n",
      "True\n",
      "True\n",
      "False\n",
      "True\n"
     ]
    }
   ],
   "metadata": {}
  },
  {
   "cell_type": "code",
   "execution_count": 14,
   "source": [
    "message = \"The quick brown fox jumps over the lazy dog\"\n",
    "print(message.find(\"q\"))\n",
    "\n",
    "print(message.find(\"t\"))\n",
    "print(message.find(\"T\"))\n",
    "print(message.find(\"not exist\"))"
   ],
   "outputs": [
    {
     "output_type": "stream",
     "name": "stdout",
     "text": [
      "4\n",
      "31\n",
      "0\n",
      "-1\n"
     ]
    }
   ],
   "metadata": {}
  },
  {
   "cell_type": "code",
   "execution_count": 15,
   "source": [
    "message = \"    middle    \"\n",
    "print(\".\" + message.lstrip() + \".\")\n",
    "print(\".\" + message.rstrip() + \".\")\n",
    "print(\".\" + message.strip() + \".\")"
   ],
   "outputs": [
    {
     "output_type": "stream",
     "name": "stdout",
     "text": [
      ".middle    .\n",
      ".    middle.\n",
      ".middle.\n"
     ]
    }
   ],
   "metadata": {}
  },
  {
   "cell_type": "code",
   "execution_count": 18,
   "source": [
    "message = \"brevity is the essence of wit, and the essence of wit is brevity\"\n",
    "message = message.replace(\"essence\", \"soul\")\n",
    "print(message)"
   ],
   "outputs": [
    {
     "output_type": "stream",
     "name": "stdout",
     "text": [
      "brevity is the soul of wit, and the soul of wit is brevity\n"
     ]
    }
   ],
   "metadata": {}
  },
  {
   "cell_type": "code",
   "execution_count": 19,
   "source": [
    "message = \"howdy\"\n",
    "print(message.rjust(20))\n",
    "print(message.rjust(20, \"-\"))\n",
    "print(message.ljust(20))\n",
    "print(message.ljust(20, \"-\"))"
   ],
   "outputs": [
    {
     "output_type": "stream",
     "name": "stdout",
     "text": [
      "               howdy\n",
      "---------------howdy\n",
      "howdy               \n",
      "howdy---------------\n"
     ]
    }
   ],
   "metadata": {}
  },
  {
   "cell_type": "code",
   "execution_count": 21,
   "source": [
    "medicine = \"Coughussin\"\n",
    "dosage = 5\n",
    "duration = 4.5\n",
    "\n",
    "instructions = \"{} - Take {} ML by mouth every {} hours\".format(medicine, dosage, duration)\n",
    "print(instructions)\n",
    "\n",
    "instructions = \"{2} - Take {1} ML by moth every {0} hours\".format(medicine, dosage, duration)\n",
    "print(instructions)\n",
    "\n",
    "instructions = \"{medicine} = Take {dosage} ML by mouth every {duration} hours\".format(\n",
    "    medicine = \"Sneezergen\", dosage = 10, duration = 6)\n",
    "print(instructions)"
   ],
   "outputs": [
    {
     "output_type": "stream",
     "name": "stdout",
     "text": [
      "Coughussin - Take 5 ML by mouth every 4.5 hours\n",
      "4.5 - Take 5 ML by moth every Coughussin hours\n",
      "Sneezergen = Take 10 ML by mouth every 6 hours\n"
     ]
    }
   ],
   "metadata": {}
  },
  {
   "cell_type": "code",
   "execution_count": 22,
   "source": [
    "name = \"World\"\n",
    "message = f\"Hello. {name}\"\n",
    "print(message)\n",
    "\n",
    "count = 10\n",
    "value = 3.14\n",
    "message = f\"Count to {count}. Multipy by {value}\"\n",
    "print(message)"
   ],
   "outputs": [
    {
     "output_type": "stream",
     "name": "stdout",
     "text": [
      "Hello. World\n",
      "Count to 10. Multipy by 3.14\n"
     ]
    }
   ],
   "metadata": {}
  },
  {
   "cell_type": "code",
   "execution_count": 23,
   "source": [
    "width = 5\n",
    "height = 10\n",
    "\n",
    "print(f\"The perimeter is {2 * (width + height)} and the area is {width * height}.\")"
   ],
   "outputs": [
    {
     "output_type": "stream",
     "name": "stdout",
     "text": [
      "The perimeter is 30 and the area is 50.\n"
     ]
    }
   ],
   "metadata": {}
  },
  {
   "cell_type": "code",
   "execution_count": 27,
   "source": [
    "value = \"hi\"\n",
    "\n",
    "print(f\".{value:<25}.\")\n",
    "print(f\".{value:>25}.\")\n",
    "print(f\".{value:^25}.\")\n",
    "print(f\".{value:-^25}.\")"
   ],
   "outputs": [
    {
     "output_type": "stream",
     "name": "stdout",
     "text": [
      ".hi                       .\n",
      ".                       hi.\n",
      ".           hi            .\n",
      ".-----------hi------------.\n"
     ]
    }
   ],
   "metadata": {}
  },
  {
   "cell_type": "code",
   "execution_count": 44,
   "source": [
    "first_value = \"  FIRST challenge          \"\n",
    "second_value = \"-  second challenge  -\"\n",
    "third_value = \"tH IR D-C HALLE NGE\"\n",
    "\n",
    "fourth_value = \"fourth\"\n",
    "fifth_value = \"fifth\"\n",
    "sixth_value = \"sixth\"\n",
    "\n",
    "# Fitst challenge\n",
    "first_value = first_value.strip().title()\n",
    "first_value = f\"{first_value:^30}\"\n",
    "\n",
    "# Second challenge\n",
    "second_value = second_value.replace(\"-\", \"\").strip().capitalize()\n",
    "\n",
    "# Third challenge\n",
    "third_value = third_value.replace(\" \", \"\").replace(\"-\", \" \").swapcase()\n",
    "third_value = f\"{third_value:>30}\"\n",
    "\n",
    "\n",
    "print(first_value)\n",
    "print(second_value)\n",
    "print(third_value)\n",
    "\n",
    "# Fourth challenge - use only the print() function (no f-strings)\n",
    "print(fourth_value, fifth_value, sixth_value, sep=\"#\", end=\"!\")\n",
    "\n",
    "# Fifth challenge - use only a single print() function. Create tabs and new lines using f-strings.\n",
    "print(f\"\\n\\t{fourth_value}\\n\\t{fifth_value}\\n\\t{sixth_value}\")"
   ],
   "outputs": [
    {
     "output_type": "stream",
     "name": "stdout",
     "text": [
      "       First Challenge        \n",
      "Second challenge\n",
      "               Third challenge\n",
      "fourth#fifth#sixth!n\tfourth\n",
      "\tfifth\n",
      "\tsixth\n"
     ]
    }
   ],
   "metadata": {}
  }
 ],
 "metadata": {
  "orig_nbformat": 4,
  "language_info": {
   "name": "python",
   "version": "3.8.10",
   "mimetype": "text/x-python",
   "codemirror_mode": {
    "name": "ipython",
    "version": 3
   },
   "pygments_lexer": "ipython3",
   "nbconvert_exporter": "python",
   "file_extension": ".py"
  },
  "kernelspec": {
   "name": "python3",
   "display_name": "Python 3.8.10 64-bit"
  },
  "interpreter": {
   "hash": "916dbcbb3f70747c44a77c7bcd40155683ae19c65e1c03b4aa3499c5328201f1"
  }
 },
 "nbformat": 4,
 "nbformat_minor": 2
}