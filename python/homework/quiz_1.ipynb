{
 "cells": [
  {
   "cell_type": "code",
   "execution_count": 10,
   "metadata": {},
   "outputs": [
    {
     "name": "stdout",
     "output_type": "stream",
     "text": [
      "[10, 28, 68, 45, 12, 47, 73, 18, 83, 10, 67, 77, 95, 80, 2, 71, 4, 28, 68, 63, 79, 66, 16, 1, 38, 8, 10, 38, 2, 56, 4, 5, 15, 24, 84, 52, 90, 89, 85, 23, 62, 65, 63, 50, 77, 50, 29, 37, 28, 95]\n",
      "[10, 28, 68, 12, 18, 10, 80, 2, 4, 28, 68, 66, 16, 38, 8, 10, 38, 2, 56, 4, 24, 84, 52, 90, 62, 50, 50, 28]\n"
     ]
    }
   ],
   "source": [
    "# 1. 编写程序，生成一个包含50个随机整数的列表，然后删除其中所有奇数（提示：从后向前删除）。\n",
    "import random\n",
    "\n",
    "a = [random.randint(1, 100) for i in range(50)]\n",
    "\n",
    "print(a)\n",
    "\n",
    "for i in range(len(a) - 1, -1, -1):\n",
    "    if a[i] % 2 == 1:\n",
    "        a.pop(i)\n",
    "\n",
    "print(a)"
   ]
  },
  {
   "cell_type": "code",
   "execution_count": 14,
   "metadata": {},
   "outputs": [
    {
     "name": "stdout",
     "output_type": "stream",
     "text": [
      "[64, 4, 29, 48, 97, 32, 2, 21, 39, 17, 10, 49, 85, 12, 35, 49, 34, 70, 41, 40]\n",
      "[97, 4, 85, 48, 64, 32, 41, 21, 39, 17, 35, 49, 34, 12, 29, 49, 10, 70, 2, 40]\n"
     ]
    }
   ],
   "source": [
    "# 2. 编写程序，生成一个包含20个随机整数的列表，然后对其中偶数下标的元素进行降序排列，奇数小标的元素不变（提示：使用切片）\n",
    "from random import randint\n",
    "\n",
    "a = [randint(1, 100) for i in range(20)]\n",
    "\n",
    "print(a)\n",
    "\n",
    "b = sorted(a[::2], key = lambda x : -x)\n",
    "\n",
    "for i in range(len(b)):\n",
    "    a[i * 2] = b[i]\n",
    "\n",
    "print(a)"
   ]
  },
  {
   "cell_type": "code",
   "execution_count": 20,
   "metadata": {},
   "outputs": [
    {
     "name": "stdout",
     "output_type": "stream",
     "text": [
      "10 = 2 x 5"
     ]
    }
   ],
   "source": [
    "# 3. 编写程序，用户从键盘输入小于1000的整数，对其进行因数分解。例如：10=2×5,60=2×2×3×5。\n",
    "\n",
    "x = int(input('input an integer:'))\n",
    "t = x\n",
    "\n",
    "res = list()\n",
    "\n",
    "i = 2\n",
    "\n",
    "while i <= x // i:\n",
    "    if x % i == 0:\n",
    "        while x % i == 0:\n",
    "            res.append(i)\n",
    "            x //= i\n",
    "\n",
    "    i += 1\n",
    "\n",
    "if x > 1:\n",
    "    res.append(x)\n",
    "\n",
    "print(f'{t} = {res[0]}', end='')\n",
    "for i in range(1, len(res)):\n",
    "    print(f' x {res[i]}', end='')"
   ]
  },
  {
   "cell_type": "code",
   "execution_count": 3,
   "metadata": {},
   "outputs": [
    {
     "name": "stdout",
     "output_type": "stream",
     "text": [
      "2 is a prime\n"
     ]
    }
   ],
   "source": [
    "# 4. 编写程序，快速判断一个数是否为素数。\n",
    "\n",
    "import math\n",
    "\n",
    "num = 2\n",
    "\n",
    "flag = True\n",
    "\n",
    "if num < 2:\n",
    "    flag = False\n",
    "\n",
    "for i in range(2, int(math.sqrt(num))):\n",
    "    if num % i == 0:\n",
    "        flag = False\n",
    "        break\n",
    "\n",
    "if flag:\n",
    "    print(f'{num} is a prime')\n",
    "else:\n",
    "    print(f'{num} is not a prime')"
   ]
  },
  {
   "cell_type": "code",
   "execution_count": 26,
   "metadata": {},
   "outputs": [
    {
     "name": "stdout",
     "output_type": "stream",
     "text": [
      "2 is a prime\n",
      "3 is a prime\n",
      "4 is a prime\n",
      "13 is a prime\n",
      "23 is a prime\n",
      "31 is a prime\n",
      "41 is a prime\n",
      "43 is a prime\n",
      "143 is a prime\n",
      "241 is a prime\n",
      "421 is a prime\n",
      "431 is a prime\n",
      "1423 is a prime\n",
      "2143 is a prime\n",
      "2341 is a prime\n",
      "4231 is a prime\n"
     ]
    }
   ],
   "source": [
    "# 5. 编写程序，输出所有由1/2/3/4这四个数字组成的素数，并且每个素数中，每个数字只使用一次。\n",
    "import math\n",
    "\n",
    "def isPrime(num: int):\n",
    "    flag = True\n",
    "\n",
    "    if num < 2:\n",
    "        return False\n",
    "\n",
    "    for i in range(2, int(math.sqrt(num))):\n",
    "        if num % i == 0:\n",
    "            flag = False\n",
    "            break\n",
    "\n",
    "    return flag\n",
    "\n",
    "import itertools\n",
    "\n",
    "for i in range(1, 5):\n",
    "    for s in itertools.permutations('1234', i):\n",
    "        num = int(''.join(s))\n",
    "        if isPrime(num):\n",
    "            print(f'{num} is a prime')"
   ]
  },
  {
   "cell_type": "code",
   "execution_count": 12,
   "metadata": {},
   "outputs": [
    {
     "name": "stdout",
     "output_type": "stream",
     "text": [
      "average grade is 2.5\n"
     ]
    }
   ],
   "source": [
    "# 6. 编写程序，键盘输入若干个成绩，求所有成绩的平均分。\n",
    "\n",
    "# 每次输入一个成绩后询问是否继续输入下一个，\n",
    "\n",
    "# 回答‘y’或‘Y’就继续输入，回答‘n’或‘N’就停止输入。\n",
    "\n",
    "grades = list()\n",
    "\n",
    "while True:\n",
    "    x = int(input('please input a grade: '))\n",
    "    grades.append(x)\n",
    "\n",
    "    t = input('do you want to continue? (y/n)')\n",
    "\n",
    "    if t == 'n' or t == 'N':\n",
    "        break\n",
    "\n",
    "print(f'average grade is {sum(grades) / len(grades)}')"
   ]
  },
  {
   "cell_type": "code",
   "execution_count": 22,
   "metadata": {},
   "outputs": [
    {
     "name": "stdout",
     "output_type": "stream",
     "text": [
      "*         \n",
      "**        \n",
      "***       \n",
      "****      \n",
      "*****     \n",
      "******    \n",
      "*******   \n",
      "********  \n",
      "********* \n",
      "**********\n",
      " *********\n",
      "  ********\n",
      "   *******\n",
      "    ******\n",
      "     *****\n",
      "      ****\n",
      "       ***\n",
      "        **\n",
      "         *\n"
     ]
    }
   ],
   "source": [
    "# 7. 编写程序，输出由星号（*）组成的菱形图案，并且可以灵活控制图案的大小。\n",
    "\n",
    "# 例如：n=6 时，菱形图案正中间一行的*个数为6个。\n",
    "\n",
    "n = 10\n",
    "\n",
    "for i in range(1, n + 1):\n",
    "    s = '*' * i\n",
    "    print(f'{s:<{n}}')\n",
    "\n",
    "for i in range(n -1, 0, -1):\n",
    "    s = '*' * i\n",
    "    print(f'{s:>{n}}')\n"
   ]
  },
  {
   "cell_type": "code",
   "execution_count": 24,
   "metadata": {},
   "outputs": [
    {
     "name": "stdout",
     "output_type": "stream",
     "text": [
      "平均成绩：60.0\n"
     ]
    }
   ],
   "source": [
    "# 8. 编写程序，模拟赛场最终成绩的计算过程。步骤如下：\n",
    "\n",
    "# （1） 输入评委人数n（要求n>2）\n",
    "n = int(input(\"输入评委人数n（要求n>2）\"))\n",
    "\n",
    "# （2） 输入每个评委的打分数（要求为0-100的浮点数）\n",
    "# （3） 将打分数添加到列表中\n",
    "grades = [0 for i in range(n)]\n",
    "for i in range(n):\n",
    "    grades[i] = float(input('输入每个评委的打分数（要求为0-100的浮点数）'))\n",
    "\n",
    "\n",
    "# （4） 用系列拆解的方式快速计算出选手最终成绩（去掉一个最高分 去掉一个最低分，求平均分）\n",
    "res = (sum(grades) - min(grades) - max(grades)) / (len(grades) - 2)\n",
    "\n",
    "print(f'平均成绩：{res}')"
   ]
  }
 ],
 "metadata": {
  "interpreter": {
   "hash": "916dbcbb3f70747c44a77c7bcd40155683ae19c65e1c03b4aa3499c5328201f1"
  },
  "kernelspec": {
   "display_name": "Python 3.8.10 64-bit",
   "name": "python3"
  },
  "language_info": {
   "codemirror_mode": {
    "name": "ipython",
    "version": 3
   },
   "file_extension": ".py",
   "mimetype": "text/x-python",
   "name": "python",
   "nbconvert_exporter": "python",
   "pygments_lexer": "ipython3",
   "version": "3.8.10"
  },
  "orig_nbformat": 4
 },
 "nbformat": 4,
 "nbformat_minor": 2
}
